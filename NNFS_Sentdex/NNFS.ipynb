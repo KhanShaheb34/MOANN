{
 "cells": [
  {
   "cell_type": "code",
   "execution_count": 1,
   "metadata": {},
   "outputs": [],
   "source": [
    "import numpy as np\n",
    "\n",
    "# Setting random seed for getting the same random weights every time\n",
    "np.random.seed(0)"
   ]
  },
  {
   "cell_type": "code",
   "execution_count": 2,
   "metadata": {},
   "outputs": [],
   "source": [
    "# Class for a single neuron layer\n",
    "class Layer_Dense:\n",
    "    def __init__(self, input_nodes, neurons):\n",
    "        # Setting random weights between -1 and 1\n",
    "        self.weights = 0.1 * np.random.randn(input_nodes, neurons)\n",
    "        # Set biases to zero\n",
    "        self.biases = np.zeros((1, neurons))\n",
    "\n",
    "    # Feed forward this layer\n",
    "    def forward(self, inputs):\n",
    "        # This is similar to  output = I.W + B\n",
    "        self.output = np.dot(inputs, self.weights) + self.biases\n",
    "        return self.output"
   ]
  },
  {
   "cell_type": "code",
   "execution_count": 3,
   "metadata": {},
   "outputs": [],
   "source": [
    "# Dummy input data\n",
    "X = [[1.0, 1.5, 5.2, 3.1],\n",
    "     [2.3, 1.2, 6.4, 1.8],\n",
    "     [0.3, 4.9, 1.6, 2.2]]"
   ]
  },
  {
   "cell_type": "code",
   "execution_count": 4,
   "metadata": {},
   "outputs": [],
   "source": [
    "# Setting up the layers\n",
    "# Number of input of each layer will be the same as the number of neurons of the previous layer\n",
    "layer1 = Layer_Dense(4, 5)\n",
    "layer2 = Layer_Dense(5, 9)\n",
    "layer3 = Layer_Dense(9, 2)"
   ]
  },
  {
   "cell_type": "code",
   "execution_count": 5,
   "metadata": {},
   "outputs": [],
   "source": [
    "# Feed forward the network\n",
    "# Output of one layer is the input of the next layer\n",
    "layer1_outputs = layer1.forward(X)\n",
    "layer2_outputs = layer2.forward(layer1_outputs)\n",
    "outputs = layer3.forward(layer2_outputs)"
   ]
  },
  {
   "cell_type": "code",
   "execution_count": 6,
   "metadata": {
    "scrolled": false
   },
   "outputs": [
    {
     "name": "stdout",
     "output_type": "stream",
     "text": [
      "[[ 0.04696613 -0.0644312 ]\n",
      " [ 0.0540355  -0.05397844]\n",
      " [ 0.03181014 -0.06934118]]\n"
     ]
    }
   ],
   "source": [
    "# As there was 3 inputs and the last layer has 2 neurons the size of the output will be 3x2\n",
    "print(outputs)"
   ]
  },
  {
   "cell_type": "code",
   "execution_count": null,
   "metadata": {},
   "outputs": [],
   "source": []
  }
 ],
 "metadata": {
  "kernelspec": {
   "display_name": "Python 3",
   "language": "python",
   "name": "python3"
  },
  "language_info": {
   "codemirror_mode": {
    "name": "ipython",
    "version": 3
   },
   "file_extension": ".py",
   "mimetype": "text/x-python",
   "name": "python",
   "nbconvert_exporter": "python",
   "pygments_lexer": "ipython3",
   "version": "3.8.1"
  }
 },
 "nbformat": 4,
 "nbformat_minor": 2
}
